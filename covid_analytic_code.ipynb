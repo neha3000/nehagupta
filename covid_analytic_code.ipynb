{
 "cells": [
  {
   "cell_type": "markdown",
   "metadata": {},
   "source": [
    "# Topic covid-19 Analysis\n",
    "1.Here I have India the covid-19 india data.\n",
    "2.Also take state wise data for deep analysis.\n",
    "3.This dataset are taken from various site to get the actual inside of the covid-19 patteren.\n",
    "4.Links for the data set are:\n",
    "a.https://in.springboard.com/blog/data-modelling-covid/\n",
    "b.https://www.kaggle.com/sudalairajkumar/covid19-in-india?select=StatewiseTestingDetails.csv\n",
    "c.https://covid19.who.int/table\n"
   ]
  },
  {
   "cell_type": "markdown",
   "metadata": {},
   "source": [
    "# Aim To Achive\n",
    "1.To analyse the total confirmed case in india every month vs total date case in india every month.\n",
    "2.To analyse the the state level data. \n",
    "3.To have grapical view of total confiremed,death,active,recovery cases of every state in india.\n",
    "4.To have close look of every state total confiremed,death,active,recovery cases.\n",
    "5.To analyse the total covid test taken every month for every state.\n"
   ]
  },
  {
   "cell_type": "markdown",
   "metadata": {},
   "source": [
    "# Import the packages necessary for the solution\n",
    "1.Sparksession act as a gateway to enter the Spark enviriment and use the function of spark\n",
    "2.Pysark.sql.type are been use here to define the schema of file.\n",
    "3.pandas is use to built the dataframe."
   ]
  },
  {
   "cell_type": "code",
   "execution_count": 1,
   "metadata": {},
   "outputs": [],
   "source": [
    "\n",
    "from pyspark.sql import SparkSession\n",
    "from pyspark.sql.types import StructType,StructField,StringType,IntegerType,FloatType,DateType,DoubleType\n",
    "import pandas as pd"
   ]
  },
  {
   "cell_type": "code",
   "execution_count": 2,
   "metadata": {},
   "outputs": [],
   "source": [
    "#create speark session with app name 'my session'\n",
    "session=SparkSession.builder.appName('my session').getOrCreate()"
   ]
  },
  {
   "cell_type": "markdown",
   "metadata": {},
   "source": [
    "# To analyse the total confirmed case in india every month vs total date case in india every month."
   ]
  },
  {
   "cell_type": "code",
   "execution_count": 3,
   "metadata": {},
   "outputs": [],
   "source": [
    "#createting schema to import data in the desire format.\n",
    "schema=StructType([\n",
    "    StructField('Date_reported',DateType(),True),\n",
    "    StructField(' Country_code',StringType(),True),\n",
    "    StructField(' Country',StringType(),True),\n",
    "    StructField(' WHO_region',StringType(),True),\n",
    "    StructField(' New_cases',IntegerType(),True),\n",
    "    StructField(' Cumulative_cases',IntegerType(),True),\n",
    "    StructField(' New_deaths',IntegerType(),True),\n",
    "    StructField(' Cumulative_deaths',IntegerType(),True)\n",
    "])"
   ]
  },
  {
   "cell_type": "code",
   "execution_count": 4,
   "metadata": {},
   "outputs": [],
   "source": [
    "#The dataset are taken from 'https://covid19.who.int/table'.\n",
    "#This dataset consist of data for all the country.\n",
    "who_data = session.read.option('header', True).schema(schema).csv(\"./WHO-COVID-19-global-data.csv\")"
   ]
  },
  {
   "cell_type": "code",
   "execution_count": 5,
   "metadata": {},
   "outputs": [
    {
     "name": "stdout",
     "output_type": "stream",
     "text": [
      "root\n",
      " |-- Date_reported: date (nullable = true)\n",
      " |--  Country_code: string (nullable = true)\n",
      " |--  Country: string (nullable = true)\n",
      " |--  WHO_region: string (nullable = true)\n",
      " |--  New_cases: integer (nullable = true)\n",
      " |--  Cumulative_cases: integer (nullable = true)\n",
      " |--  New_deaths: integer (nullable = true)\n",
      " |--  Cumulative_deaths: integer (nullable = true)\n",
      "\n"
     ]
    }
   ],
   "source": [
    "#check the schema of dataset\n",
    "who_data.printSchema()"
   ]
  },
  {
   "cell_type": "markdown",
   "metadata": {},
   "source": [
    "Select all the columns reqire for analysis and dicard the rest."
   ]
  },
  {
   "cell_type": "code",
   "execution_count": 10,
   "metadata": {},
   "outputs": [
    {
     "data": {
      "text/plain": [
       "DataFrame[Date_reported: date,  Country_code: string,  Country: string,  New_cases: int,  New_deaths: int]"
      ]
     },
     "execution_count": 10,
     "metadata": {},
     "output_type": "execute_result"
    }
   ],
   "source": [
    "#select the required column from data\n",
    "who_data.select('Date_reported',' Country_code',' Country',' New_cases',' New_deaths')"
   ]
  },
  {
   "cell_type": "code",
   "execution_count": 11,
   "metadata": {},
   "outputs": [],
   "source": [
    "#convert the data into data frame\n",
    "who_data_DF=who_data.toPandas()"
   ]
  },
  {
   "cell_type": "markdown",
   "metadata": {},
   "source": [
    "1.The user input to select the country code for which you want to analysis example for india country code in IN.\n",
    "2.Then we filter the data for that country and put into the dataframe."
   ]
  },
  {
   "cell_type": "code",
   "execution_count": 12,
   "metadata": {},
   "outputs": [
    {
     "name": "stdout",
     "output_type": "stream",
     "text": [
      "enter code of country e.g for India ente IN : IN\n"
     ]
    }
   ],
   "source": [
    "#user input for country data to analyse.\n",
    "country_code=input(\"enter code of country e.g for India ente IN : \")\n",
    "#Filter the data for the user input country.\n",
    "country_df=who_data_DF.loc[who_data_DF[' Country_code']==country_code]"
   ]
  },
  {
   "cell_type": "markdown",
   "metadata": {},
   "source": [
    "1.To have the monthly analysis of country data we need to group the data montly wise."
   ]
  },
  {
   "cell_type": "code",
   "execution_count": 14,
   "metadata": {},
   "outputs": [
    {
     "name": "stderr",
     "output_type": "stream",
     "text": [
      "/opt/anaconda3/lib/python3.7/site-packages/ipykernel_launcher.py:2: SettingWithCopyWarning: \n",
      "A value is trying to be set on a copy of a slice from a DataFrame.\n",
      "Try using .loc[row_indexer,col_indexer] = value instead\n",
      "\n",
      "See the caveats in the documentation: https://pandas.pydata.org/pandas-docs/stable/user_guide/indexing.html#returning-a-view-versus-a-copy\n",
      "  \n"
     ]
    }
   ],
   "source": [
    "#Group the data month wise the total case confirmed and total death every month\n",
    "country_df['Date_reported']=pd.to_datetime(country_df['Date_reported'])\n",
    "mon=country_df.Date_reported.dt.to_period(\"M\") # month variable created\n",
    "India_df=country_df.groupby(mon).sum()\n"
   ]
  },
  {
   "cell_type": "markdown",
   "metadata": {},
   "source": [
    "After the groupby we need to rename few column."
   ]
  },
  {
   "cell_type": "code",
   "execution_count": null,
   "metadata": {},
   "outputs": [],
   "source": [
    "#Rename the columns\n",
    "India_df=India_df.rename(columns={' New_cases':'Total Cases',' New_deaths':'Total death'})"
   ]
  },
  {
   "cell_type": "markdown",
   "metadata": {},
   "source": [
    "# Analysis of confirmed and death record montly.\n",
    "1.The blue line indicate the total no of cases occour in india every month.\n",
    "2.The orange line indicate the total no of deadth case in india every month."
   ]
  },
  {
   "cell_type": "code",
   "execution_count": 16,
   "metadata": {},
   "outputs": [
    {
     "data": {
      "image/png": "[encoded data removed]",
      "text/plain": [
       "<Figure size 432x288 with 1 Axes>"
      ]
     },
     "metadata": {
      "needs_background": "light"
     },
     "output_type": "display_data"
    }
   ],
   "source": [
    "\n",
    "import matplotlib.pyplot as plt\n",
    "ax=India_df.plot(y='Total Cases',kind='line')\n",
    "India_df.plot(y='Total death',kind='line',ax=ax)\n",
    "plt.show()"
   ]
  },
  {
   "cell_type": "markdown",
   "metadata": {},
   "source": [
    "# To analyse the the state level data. "
   ]
  },
  {
   "cell_type": "code",
   "execution_count": 17,
   "metadata": {},
   "outputs": [],
   "source": [
    "#load the statewise data for analysis from \n",
    "#'https://www.kaggle.com/sudalairajkumar/covid19-in-india?select=StatewiseTestingDetails.csv'\n",
    "state_data=session.read.load('./state_wise.csv',format='csv',sep=',',inferSchema=True,header=\"True\")"
   ]
  },
  {
   "cell_type": "code",
   "execution_count": 18,
   "metadata": {},
   "outputs": [],
   "source": [
    "#Filter the column needed for analysis\n",
    "state_data=state_data.select('State','Confirmed','Recovered','Deaths','Active')"
   ]
  },
  {
   "cell_type": "code",
   "execution_count": 19,
   "metadata": {},
   "outputs": [
    {
     "name": "stdout",
     "output_type": "stream",
     "text": [
      "root\n",
      " |-- State: string (nullable = true)\n",
      " |-- Confirmed: integer (nullable = true)\n",
      " |-- Recovered: integer (nullable = true)\n",
      " |-- Deaths: integer (nullable = true)\n",
      " |-- Active: integer (nullable = true)\n",
      "\n"
     ]
    }
   ],
   "source": [
    "# check the schema \n",
    "state_data.printSchema()"
   ]
  },
  {
   "cell_type": "code",
   "execution_count": 20,
   "metadata": {},
   "outputs": [],
   "source": [
    "#conver the state_data to dataframe and clean the data\n",
    "state_data_df=(state_data.toPandas())[1:36]\n",
    "\n",
    "\n"
   ]
  },
  {
   "cell_type": "code",
   "execution_count": 21,
   "metadata": {},
   "outputs": [
    {
     "name": "stdout",
     "output_type": "stream",
     "text": [
      "\"enter any one following option to see the analysis\n",
      "           1.Confirmed\n",
      "           2.Recovered\n",
      "           3:Deaths\n",
      "           4.Active \n",
      "           \"\n",
      "           Active\n"
     ]
    }
   ],
   "source": [
    "#take the user input to view the report for confirmecase,Recovery,Death,Active:\n",
    "case=input('''\"enter any one following option to see the analysis\n",
    "           1.Confirmed\n",
    "           2.Recovered\n",
    "           3:Deaths\n",
    "           4.Active \n",
    "           \"\n",
    "           ''')"
   ]
  },
  {
   "cell_type": "markdown",
   "metadata": {},
   "source": [
    "# To have grapical view of total confiremed,death,active,recovery cases of every state in india."
   ]
  },
  {
   "cell_type": "code",
   "execution_count": 22,
   "metadata": {},
   "outputs": [
    {
     "data": {
      "text/plain": [
       "<matplotlib.axes._subplots.AxesSubplot at 0x7f137a200e10>"
      ]
     },
     "execution_count": 22,
     "metadata": {},
     "output_type": "execute_result"
    },
    {
     "data": {
      "image/png": "[encoded data removed]",
      "text/plain": [
       "<Figure size 432x288 with 1 Axes>"
      ]
     },
     "metadata": {
      "needs_background": "light"
     },
     "output_type": "display_data"
    }
   ],
   "source": [
    "state_data_df.plot(x='State',y=case,kind='bar')"
   ]
  },
  {
   "cell_type": "markdown",
   "metadata": {},
   "source": [
    "# To have close look of every state total confiremed,death,active,recovery cases."
   ]
  },
  {
   "cell_type": "code",
   "execution_count": 23,
   "metadata": {},
   "outputs": [],
   "source": [
    "#for satate wise analysis the data is been transposed useing transpose method.\n",
    "state_data_df_tr=state_data_df.transpose()\n",
    "#set the first row as header for the transposed dataset.\n",
    "new_header=state_data_df_tr.iloc[0]\n",
    "state_data_df_tr=state_data_df_tr[1:]\n",
    "state_data_df_tr.columns=new_header"
   ]
  },
  {
   "cell_type": "code",
   "execution_count": 24,
   "metadata": {},
   "outputs": [
    {
     "name": "stdout",
     "output_type": "stream",
     "text": [
      "enter state name : Delhi\n",
      "yes\n"
     ]
    },
    {
     "data": {
      "image/png": "[encoded data removed]",
      "text/plain": [
       "<Figure size 432x288 with 1 Axes>"
      ]
     },
     "metadata": {
      "needs_background": "light"
     },
     "output_type": "display_data"
    }
   ],
   "source": [
    "#Enter the state name for which you want to see the survay.\n",
    "state_name=input(\"enter state name : \")\n",
    "# It will check the state in dataset and give the visual report.\n",
    "if state_name in state_data_df_tr.columns:\n",
    "    print(\"yes\")\n",
    "    state_data_df_tr.plot(y=state_name,kind='bar')"
   ]
  },
  {
   "cell_type": "markdown",
   "metadata": {},
   "source": [
    "# To analyse the total covid test taken every month for every state."
   ]
  },
  {
   "cell_type": "code",
   "execution_count": 27,
   "metadata": {},
   "outputs": [],
   "source": [
    "#createting schema to import data in the desire format.\n",
    "state_schema=StructType([\n",
    "    StructField('Date',DateType(),True),\n",
    "    StructField('State',StringType(),True),\n",
    "    StructField('TotalSamples',DoubleType(),True),\n",
    "    StructField('Negative',IntegerType(),True),\n",
    "    StructField('Positive',IntegerType(),True)\n",
    "])"
   ]
  },
  {
   "cell_type": "code",
   "execution_count": 28,
   "metadata": {},
   "outputs": [],
   "source": [
    "#load the data of state wise covid test taken from \n",
    "#'https://www.kaggle.com/sudalairajkumar/covid19-in-india?select=StatewiseTestingDetails.csv'\n",
    "state_test=session.read.option('header', True).schema(state_schema).csv('./StatewiseTestingDetails.csv')"
   ]
  },
  {
   "cell_type": "code",
   "execution_count": 29,
   "metadata": {},
   "outputs": [
    {
     "name": "stdout",
     "output_type": "stream",
     "text": [
      "root\n",
      " |-- Date: date (nullable = true)\n",
      " |-- State: string (nullable = true)\n",
      " |-- TotalSamples: double (nullable = true)\n",
      " |-- Negative: integer (nullable = true)\n",
      " |-- Positive: integer (nullable = true)\n",
      "\n"
     ]
    }
   ],
   "source": [
    "#chech the schema\n",
    "state_test.printSchema()"
   ]
  },
  {
   "cell_type": "code",
   "execution_count": 30,
   "metadata": {},
   "outputs": [],
   "source": [
    "#Conver the data to pandas. \n",
    "state_test_df=state_test.toPandas()"
   ]
  },
  {
   "cell_type": "code",
   "execution_count": 31,
   "metadata": {},
   "outputs": [],
   "source": [
    "#Create a new column for month to group the data monthly.\n",
    "from pyspark.sql.functions import month\n",
    "state_test=state_test.withColumn(\"month\",month(state_test.Date))"
   ]
  },
  {
   "cell_type": "code",
   "execution_count": 32,
   "metadata": {},
   "outputs": [],
   "source": [
    "#Create the temporary table \n",
    "state_test.registerTempTable('state_test_temp')\n"
   ]
  },
  {
   "cell_type": "code",
   "execution_count": 33,
   "metadata": {},
   "outputs": [],
   "source": [
    "#Create the desire table using sql table for desire format\n",
    "state_test=session.sql(\"select state,month,sum(TotalSamples) as TotalSamples from state_test_temp group by State,month order by State,month\")"
   ]
  },
  {
   "cell_type": "code",
   "execution_count": 34,
   "metadata": {},
   "outputs": [],
   "source": [
    "#convert the data into dataframe\n",
    "state_test_df=state_test.toPandas()"
   ]
  },
  {
   "cell_type": "code",
   "execution_count": 39,
   "metadata": {},
   "outputs": [
    {
     "name": "stdout",
     "output_type": "stream",
     "text": [
      "enter state name : Delhi\n"
     ]
    },
    {
     "data": {
      "text/plain": [
       "<matplotlib.axes._subplots.AxesSubplot at 0x7f137970db10>"
      ]
     },
     "execution_count": 39,
     "metadata": {},
     "output_type": "execute_result"
    },
    {
     "data": {
      "image/png": "[encoded data removed]",
      "text/plain": [
       "<Figure size 432x288 with 1 Axes>"
      ]
     },
     "metadata": {
      "needs_background": "light"
     },
     "output_type": "display_data"
    }
   ],
   "source": [
    "#Enter the state name for wich want to see the record for rest taken.\n",
    "\n",
    "state_test=input(\"enter state name : \")\n",
    "test_df=state_test_df.loc[state_test_df['state']==state_test]\n",
    "test_df.plot(x='month',y='TotalSamples',kind='line')"
   ]
  },
  {
   "cell_type": "code",
   "execution_count": null,
   "metadata": {},
   "outputs": [],
   "source": []
  }
 ],
 "metadata": {
  "kernelspec": {
   "display_name": "Python 3",
   "language": "python",
   "name": "python3"
  },
  "language_info": {
   "codemirror_mode": {
    "name": "ipython",
    "version": 3
   },
   "file_extension": ".py",
   "mimetype": "text/x-python",
   "name": "python",
   "nbconvert_exporter": "python",
   "pygments_lexer": "ipython3",
   "version": "3.7.6"
  }
 },
 "nbformat": 4,
 "nbformat_minor": 4
}
